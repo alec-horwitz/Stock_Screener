{
 "cells": [
  {
   "cell_type": "code",
   "execution_count": 1,
   "metadata": {},
   "outputs": [],
   "source": [
    "import bs4 as bs\n",
    "import datetime as dt\n",
    "import matplotlib.pyplot as plt\n",
    "from matplotlib import style\n",
    "import os\n",
    "import numpy as np\n",
    "import pandas as pd\n",
    "import pandas_datareader as web\n",
    "import pickle\n",
    "import requests"
   ]
  },
  {
   "cell_type": "code",
   "execution_count": 2,
   "metadata": {},
   "outputs": [],
   "source": [
    "style.use('ggplot')"
   ]
  },
  {
   "cell_type": "code",
   "execution_count": 16,
   "metadata": {},
   "outputs": [],
   "source": [
    "def save_sp500_tickers():\n",
    "\tresp = requests.get('https://en.wikipedia.org/wiki/List_of_S%26P_500_companies')\n",
    "\tsoup = bs.BeautifulSoup(resp.text)\n",
    "\ttable = soup.find('table', {'class':'wikitable sortable'})\n",
    "\ttickers = []\n",
    "\tfor row in table.findAll('tr')[1:]:\n",
    "\t\tticker=row.findAll('td')[0].text\n",
    "\t\tmapping = str.maketrans(\".\",\"-\")\n",
    "\t\tticker = ticker.translate(mapping)\n",
    "\t\ttickers.append(ticker)\n",
    "\twith open(\"sp500tickers.pickle\", \"wb\") as f:\n",
    "\t\tpickle.dump(tickers, f)\n",
    "\n",
    "\tprint(tickers)\n",
    "\n",
    "\n",
    "\treturn tickers"
   ]
  },
  {
   "cell_type": "code",
   "execution_count": 4,
   "metadata": {},
   "outputs": [],
   "source": [
    "def get_data_from_yahoo(reload_sp500=False):\n",
    "\tif reload_sp500:\n",
    "\t\ttickers = save_sp500_tickers()\n",
    "\telse:\n",
    "\t\twith open(\"sp500tickers.pickle\", \"rb\") as f:\n",
    "\t\t\ttickers = pickle.load(f)\n",
    "\tif not os.path.exists('stock_dfs'):\n",
    "\t\tos.makedirs('stock_dfs')\n",
    "\n",
    "\tstart = dt.datetime(2000,1,1)\n",
    "\tend = dt.datetime(2016,12,31)\n",
    "\n",
    "\tfor ticker in tickers:\n",
    "\t\tprint('ticker')\n",
    "\t\tif not os.path.exists('stock_dfs/{}.csv'.format(ticker)):\n",
    "\t\t\tdf = web.DataReader(ticker, 'yahoo', start, end)\n",
    "\t\t\tdf.to_csv('stock_dfs/{}.csv'.format(ticker))\n",
    "\t\telse:\n",
    "\t\t\tprint('Already have {}'.format(ticker))"
   ]
  },
  {
   "cell_type": "code",
   "execution_count": 13,
   "metadata": {},
   "outputs": [],
   "source": [
    "def compile_data():\n",
    "\tget_data_from_yahoo()\n",
    "\twith open(\"sp500tickers.pickle\",\"rb\") as f:\n",
    "\t\ttickers = pickle.load(f)\n",
    "\n",
    "\tmain_df = pd.DataFrame()\n",
    "\n",
    "\tfor count, ticker in enumerate(tickers):\n",
    "\t\tdf = pd.read_csv('stock_dfs/{}.csv'.format(ticker))\n",
    "\t\tdf.set_index(\"Date\", inplace=True)\n",
    "\n",
    "\t\tdf.rename(columns = {'Adj Close':ticker}, inplace=True)\n",
    "\t\tdf.drop(['Open','High',\"Low\",'Close','Volume'], 1, inplace=True)\n",
    "\n",
    "\t\tif main_df.empty:\n",
    "\t\t\tmain_df = df\n",
    "\t\telse:\n",
    "\t\t\tmain_df = main_df.join(df, how='outer')\n",
    "\n",
    "\t\tif count % 10 ==0:\n",
    "\t\t\tprint (count)\n",
    "\n",
    "\n",
    "\tprint(main_df.head())\n",
    "\tmain_df.to_csv('sp500_joined_closes.csv')"
   ]
  },
  {
   "cell_type": "code",
   "execution_count": 14,
   "metadata": {},
   "outputs": [],
   "source": [
    "def visualize_data():\n",
    "\tcompile_data()\n",
    "\tdf = pd.read_csv('sp500_joined_closes.csv')\n",
    "\t# df['AAPL'].plot()\n",
    "\t# plt.show()\n",
    "\tdf_corr =df.corr()\n",
    "\n",
    "\tprint(df_corr.head())\n",
    "\n",
    "\tdata = df_corr.values\n",
    "\n",
    "\tfig = plt.figure()\n",
    "\tax = fig.add_subplot(1,1,1)\n",
    "\theatmap = ax.pcolor(data, cmap=plt.cm.RdYlGn)\n",
    "\tfig.colorbar(heatmap)\n",
    "\tax.set_xticks(np.arange(data.shape[0]) + 0.5, minor=False)\n",
    "\tax.set_yticks(np.arange(data.shape[1]) + 0.5, minor=False)\n",
    "\tax.invert_yaxis()\n",
    "\tax.xaxis.tick_top()\n",
    "\n",
    "\tcolumn_labels = df_corr.columns\n",
    "\trow_labels = df_corr.index\n",
    "\n",
    "\tax.set_xticklabels(column_labels)\n",
    "\tax.set_yticklabels(row_labels)\n",
    "\tplt.xticks(rotation=90)\n",
    "\theatmap.set_clim(-1,1)\n",
    "\tplt.tight_layout()\n",
    "\tplt.show()"
   ]
  },
  {
   "cell_type": "code",
   "execution_count": 15,
   "metadata": {},
   "outputs": [
    {
     "ename": "FileNotFoundError",
     "evalue": "[Errno 2] No such file or directory: 'sp500tickers.pickle'",
     "output_type": "error",
     "traceback": [
      "\u001b[1;31m---------------------------------------------------------------------------\u001b[0m",
      "\u001b[1;31mFileNotFoundError\u001b[0m                         Traceback (most recent call last)",
      "\u001b[1;32m<ipython-input-15-c1ea994916de>\u001b[0m in \u001b[0;36m<module>\u001b[1;34m()\u001b[0m\n\u001b[1;32m----> 1\u001b[1;33m \u001b[0mvisualize_data\u001b[0m\u001b[1;33m(\u001b[0m\u001b[1;33m)\u001b[0m\u001b[1;33m\u001b[0m\u001b[0m\n\u001b[0m",
      "\u001b[1;32m<ipython-input-14-63e013879a21>\u001b[0m in \u001b[0;36mvisualize_data\u001b[1;34m()\u001b[0m\n\u001b[0;32m      1\u001b[0m \u001b[1;32mdef\u001b[0m \u001b[0mvisualize_data\u001b[0m\u001b[1;33m(\u001b[0m\u001b[1;33m)\u001b[0m\u001b[1;33m:\u001b[0m\u001b[1;33m\u001b[0m\u001b[0m\n\u001b[1;32m----> 2\u001b[1;33m         \u001b[0mcompile_data\u001b[0m\u001b[1;33m(\u001b[0m\u001b[1;33m)\u001b[0m\u001b[1;33m\u001b[0m\u001b[0m\n\u001b[0m\u001b[0;32m      3\u001b[0m         \u001b[0mdf\u001b[0m \u001b[1;33m=\u001b[0m \u001b[0mpd\u001b[0m\u001b[1;33m.\u001b[0m\u001b[0mread_csv\u001b[0m\u001b[1;33m(\u001b[0m\u001b[1;34m'sp500_joined_closes.csv'\u001b[0m\u001b[1;33m)\u001b[0m\u001b[1;33m\u001b[0m\u001b[0m\n\u001b[0;32m      4\u001b[0m         \u001b[1;31m# df['AAPL'].plot()\u001b[0m\u001b[1;33m\u001b[0m\u001b[1;33m\u001b[0m\u001b[0m\n\u001b[0;32m      5\u001b[0m         \u001b[1;31m# plt.show()\u001b[0m\u001b[1;33m\u001b[0m\u001b[1;33m\u001b[0m\u001b[0m\n",
      "\u001b[1;32m<ipython-input-13-81afc986a393>\u001b[0m in \u001b[0;36mcompile_data\u001b[1;34m()\u001b[0m\n\u001b[0;32m      1\u001b[0m \u001b[1;32mdef\u001b[0m \u001b[0mcompile_data\u001b[0m\u001b[1;33m(\u001b[0m\u001b[1;33m)\u001b[0m\u001b[1;33m:\u001b[0m\u001b[1;33m\u001b[0m\u001b[0m\n\u001b[1;32m----> 2\u001b[1;33m         \u001b[0mget_data_from_yahoo\u001b[0m\u001b[1;33m(\u001b[0m\u001b[1;33m)\u001b[0m\u001b[1;33m\u001b[0m\u001b[0m\n\u001b[0m\u001b[0;32m      3\u001b[0m         \u001b[1;32mwith\u001b[0m \u001b[0mopen\u001b[0m\u001b[1;33m(\u001b[0m\u001b[1;34m\"sp500tickers.pickle\"\u001b[0m\u001b[1;33m,\u001b[0m\u001b[1;34m\"rb\"\u001b[0m\u001b[1;33m)\u001b[0m \u001b[1;32mas\u001b[0m \u001b[0mf\u001b[0m\u001b[1;33m:\u001b[0m\u001b[1;33m\u001b[0m\u001b[0m\n\u001b[0;32m      4\u001b[0m                 \u001b[0mtickers\u001b[0m \u001b[1;33m=\u001b[0m \u001b[0mpickle\u001b[0m\u001b[1;33m.\u001b[0m\u001b[0mload\u001b[0m\u001b[1;33m(\u001b[0m\u001b[0mf\u001b[0m\u001b[1;33m)\u001b[0m\u001b[1;33m\u001b[0m\u001b[0m\n\u001b[0;32m      5\u001b[0m \u001b[1;33m\u001b[0m\u001b[0m\n",
      "\u001b[1;32m<ipython-input-4-744784a08d25>\u001b[0m in \u001b[0;36mget_data_from_yahoo\u001b[1;34m(reload_sp500)\u001b[0m\n\u001b[0;32m      3\u001b[0m                 \u001b[0mtickers\u001b[0m \u001b[1;33m=\u001b[0m \u001b[0msave_sp500_tickers\u001b[0m\u001b[1;33m(\u001b[0m\u001b[1;33m)\u001b[0m\u001b[1;33m\u001b[0m\u001b[0m\n\u001b[0;32m      4\u001b[0m         \u001b[1;32melse\u001b[0m\u001b[1;33m:\u001b[0m\u001b[1;33m\u001b[0m\u001b[0m\n\u001b[1;32m----> 5\u001b[1;33m                 \u001b[1;32mwith\u001b[0m \u001b[0mopen\u001b[0m\u001b[1;33m(\u001b[0m\u001b[1;34m\"sp500tickers.pickle\"\u001b[0m\u001b[1;33m,\u001b[0m \u001b[1;34m\"rb\"\u001b[0m\u001b[1;33m)\u001b[0m \u001b[1;32mas\u001b[0m \u001b[0mf\u001b[0m\u001b[1;33m:\u001b[0m\u001b[1;33m\u001b[0m\u001b[0m\n\u001b[0m\u001b[0;32m      6\u001b[0m                         \u001b[0mtickers\u001b[0m \u001b[1;33m=\u001b[0m \u001b[0mpickle\u001b[0m\u001b[1;33m.\u001b[0m\u001b[0mload\u001b[0m\u001b[1;33m(\u001b[0m\u001b[0mf\u001b[0m\u001b[1;33m)\u001b[0m\u001b[1;33m\u001b[0m\u001b[0m\n\u001b[0;32m      7\u001b[0m         \u001b[1;32mif\u001b[0m \u001b[1;32mnot\u001b[0m \u001b[0mos\u001b[0m\u001b[1;33m.\u001b[0m\u001b[0mpath\u001b[0m\u001b[1;33m.\u001b[0m\u001b[0mexists\u001b[0m\u001b[1;33m(\u001b[0m\u001b[1;34m'stock_dfs'\u001b[0m\u001b[1;33m)\u001b[0m\u001b[1;33m:\u001b[0m\u001b[1;33m\u001b[0m\u001b[0m\n",
      "\u001b[1;31mFileNotFoundError\u001b[0m: [Errno 2] No such file or directory: 'sp500tickers.pickle'"
     ]
    }
   ],
   "source": [
    "visualize_data()"
   ]
  },
  {
   "cell_type": "code",
   "execution_count": null,
   "metadata": {},
   "outputs": [],
   "source": []
  }
 ],
 "metadata": {
  "kernelspec": {
   "display_name": "Python 3",
   "language": "python",
   "name": "python3"
  },
  "language_info": {
   "codemirror_mode": {
    "name": "ipython",
    "version": 3
   },
   "file_extension": ".py",
   "mimetype": "text/x-python",
   "name": "python",
   "nbconvert_exporter": "python",
   "pygments_lexer": "ipython3",
   "version": "3.5.4"
  }
 },
 "nbformat": 4,
 "nbformat_minor": 2
}
