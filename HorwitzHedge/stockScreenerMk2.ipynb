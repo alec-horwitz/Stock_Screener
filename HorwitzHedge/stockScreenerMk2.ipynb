{
 "cells": [
  {
   "cell_type": "code",
   "execution_count": 1,
   "metadata": {},
   "outputs": [],
   "source": [
    "import bs4 as bs\n",
    "from bs4 import BeautifulSoup\n",
    "import datetime as dt\n",
    "import matplotlib.pyplot as plt\n",
    "from matplotlib import style\n",
    "import os\n",
    "import numpy as np\n",
    "import pandas as pd\n",
    "import pandas_datareader as web\n",
    "import pickle\n",
    "import requests\n",
    "import urllib\n",
    "import csv\n",
    "import quandl"
   ]
  },
  {
   "cell_type": "code",
   "execution_count": 2,
   "metadata": {},
   "outputs": [],
   "source": [
    "def main():\n",
    "    try:\n",
    "        visualize_data()\n",
    "    except:\n",
    "        main()"
   ]
  },
  {
   "cell_type": "code",
   "execution_count": 3,
   "metadata": {},
   "outputs": [],
   "source": [
    "def visualize_data():\n",
    "    compile_data()"
   ]
  },
  {
   "cell_type": "code",
   "execution_count": 4,
   "metadata": {},
   "outputs": [],
   "source": [
    "def compile_data():\n",
    "    get_data_from_yahoo(reload_sp500=True)\n",
    "    with open(\"sp500tickers.pickle\",\"rb\") as f:\n",
    "        tickerList = pickle.load(f)\n",
    "        \n",
    "    main_df = pd.DataFrame()\n",
    "    \n",
    "    for count, ticker in enumerate(tickerList):\n",
    "        df = pd.read_csv('stock_dfs/{}.csv'.format(ticker))\n",
    "        df.set_index(\"Date\", inplace=True)\n",
    "        \n",
    "        df.rename(columns = {'Adj Close':ticker}, inplace=True)\n",
    "        df.drop(['Open','High',\"Low\",'Close','Volume'], 1, inplace=True)\n",
    "        \n",
    "        if main_df.empty:\n",
    "            main_df = df\n",
    "        else:\n",
    "            main_df = main_df.join(df, how='outer')\n",
    "            \n",
    "        if count % 10 ==0:\n",
    "            print(count)\n",
    "        \n",
    "    print(main_df.head())\n",
    "    main_df.to_csv('sp500_joined_closes.csv')"
   ]
  },
  {
   "cell_type": "code",
   "execution_count": 5,
   "metadata": {},
   "outputs": [],
   "source": [
    "def get_data_from_yahoo(reload_sp500=False):\n",
    "    if reload_sp500:\n",
    "        tickerList = save_sp500_tickers()\n",
    "    else:\n",
    "        with open(\"sp500tickers.pickle\", \"rb\") as f:\n",
    "            tickerList = pickle.load(f)\n",
    "    if not os.path.exists('stock_dfs'):\n",
    "        os.makedirs('stock_dfs')\n",
    "        \n",
    "    start = dt.datetime(2017,10,30)\n",
    "    end = dt.datetime(2017,10,31)\n",
    "    \n",
    "    for ticker in tickerList:\n",
    "        print('ticker')\n",
    "        if not os.path.exists('stock_dfs/{}.csv'.format(ticker)):\n",
    "#             df = web.DataReader(ticker, 'yahoo', start, end)\n",
    "            df = web.DataReader(ticker, 'yahoo', end)\n",
    "            df.to_csv('stock_dfs/{}.csv'.format(ticker))\n",
    "        else:\n",
    "            print('Already have {}'.format(ticker))"
   ]
  },
  {
   "cell_type": "code",
   "execution_count": 6,
   "metadata": {},
   "outputs": [],
   "source": [
    "def save_sp500_tickers():\n",
    "    resp = requests.get('https://en.wikipedia.org/wiki/List_of_S%26P_500_companies')\n",
    "    soup = bs.BeautifulSoup(resp.text)\n",
    "    table = soup.find('table', {'class':'wikitable sortable'})\n",
    "    tickerList = []\n",
    "    for row in table.findAll('tr')[1:10]: #Will only get 10 companies. Delete 10 for whole list.\n",
    "        ticker=row.findAll('td')[0].text\n",
    "        mapping = str.maketrans(\".\",\"-\")\n",
    "        ticker = ticker.translate(mapping)\n",
    "        if not (\"BHF\" in row):\n",
    "            tickerList.append(ticker)\n",
    "    with open(\"sp500tickers.pickle\", \"wb\") as f:\n",
    "        pickle.dump(tickerList, f)\n",
    "    \n",
    "    print(tickerList)\n",
    "    \n",
    "    return tickerList"
   ]
  },
  {
   "cell_type": "code",
   "execution_count": 7,
   "metadata": {
    "scrolled": true
   },
   "outputs": [
    {
     "name": "stderr",
     "output_type": "stream",
     "text": [
      "c:\\users\\superjesse\\appdata\\local\\programs\\python\\python35\\lib\\site-packages\\bs4\\__init__.py:181: UserWarning: No parser was explicitly specified, so I'm using the best available HTML parser for this system (\"lxml\"). This usually isn't a problem, but if you run this code on another system, or in a different virtual environment, it may use a different parser and behave differently.\n",
      "\n",
      "The code that caused this warning is on line 193 of the file c:\\users\\superjesse\\appdata\\local\\programs\\python\\python35\\lib\\runpy.py. To get rid of this warning, change code that looks like this:\n",
      "\n",
      " BeautifulSoup(YOUR_MARKUP})\n",
      "\n",
      "to this:\n",
      "\n",
      " BeautifulSoup(YOUR_MARKUP, \"lxml\")\n",
      "\n",
      "  markup_type=markup_type))\n"
     ]
    },
    {
     "name": "stdout",
     "output_type": "stream",
     "text": [
      "['MMM', 'ABT', 'ABBV', 'ACN', 'ATVI', 'AYI', 'ADBE', 'AMD', 'AAP']\n",
      "ticker\n",
      "Already have MMM\n",
      "ticker\n",
      "Already have ABT\n",
      "ticker\n",
      "Already have ABBV\n",
      "ticker\n",
      "Already have ACN\n",
      "ticker\n",
      "Already have ATVI\n",
      "ticker\n",
      "Already have AYI\n",
      "ticker\n",
      "Already have ADBE\n",
      "ticker\n",
      "Already have AMD\n",
      "ticker\n",
      "Already have AAP\n",
      "0\n",
      "                   MMM        ABT       ABBV         ACN       ATVI  \\\n",
      "Date                                                                  \n",
      "2017-10-31  229.964996  54.205002  90.169998  142.274994  65.425003   \n",
      "\n",
      "                   AYI        ADBE     AMD    AAP  \n",
      "Date                                               \n",
      "2017-10-31  167.490005  175.089996  10.985  81.82  \n"
     ]
    }
   ],
   "source": [
    "main()"
   ]
  },
  {
   "cell_type": "code",
   "execution_count": 161,
   "metadata": {},
   "outputs": [],
   "source": [
    "def reformatDataFrame(input):\n",
    "    df = pd.read_csv(input)\n",
    "    df.pop('Date')\n",
    "    df = df.transpose()\n",
    "    df.columns = [\"Adj Close Price\"] #,\"Market Cap\", \"P/E Ratio\", \"Div Yield (%)\", \"52 Week Price Change (%)\"]\n",
    "    df.index.name = \"Ticker\"\n",
    "    df2 = pd.DataFrame()\n",
    "    for ticker in df.index:\n",
    "#         site = \"http://financials.morningstar.com/ajax/exportKR2CSV.html?t=\"+ticker\n",
    "#         print(site)\n",
    "#         fund = pd.read_csv(site, error_bad_lines=False, engine = 'python')\n",
    "#         fundamentals = urllib.request.urlopen(\"http://financials.morningstar.com/ajax/exportKR2CSV.html?t=\"+ticker)\n",
    "#         fundamentals = csv.reader(fundamentals)\n",
    "#         print(fundamentals)\n",
    "\n",
    "#         htmlText = requests.get(\"http://financials.morningstar.com/ajax/exportKR2CSV.html?t=\"+ticker).text\n",
    "#         lines=BeautifulSoup(htmlText,\"html.parser\")\n",
    "#         lines = lines.prettify()\n",
    "#         fout = open(\"fund.csv\", 'w')\n",
    "#         for line in lines.split(\"\\n\"):\n",
    "#             print(line)\n",
    "#             fout.write(line + \"\\n\")\n",
    "#         fout.close()\n",
    "        df2 = pd.read_csv(\"MMMKeyRatios.csv\", index_col = 0)\n",
    "        print(ticker)\n",
    "        df2 = df2['TTM'].head(20)\n",
    "#         print(df2.index)\n",
    "#         print(df2[0])\n",
    "#     tickerDF = pd.DataFrame(index = ticker, columns = [df2.index])\n",
    "#     print(tickerDF)\n",
    "\n",
    "    dict = {}\n",
    "    for i in range(len(df2.index)):\n",
    "        dict[str(df2.index[i])] = df2[i]\n",
    "    df3 = pd.DataFrame(data = dict, index = df.index)\n",
    "#     print(df3)\n",
    "#     print(df)\n",
    "    frames = [df,df3]\n",
    "    df4 = pd.concat(frames, axis=1)\n",
    "    print(df4)"
   ]
  },
  {
   "cell_type": "code",
   "execution_count": 162,
   "metadata": {
    "scrolled": false
   },
   "outputs": [
    {
     "name": "stdout",
     "output_type": "stream",
     "text": [
      "MMM\n",
      "ABT\n",
      "ABBV\n",
      "ACN\n",
      "ATVI\n",
      "AYI\n",
      "ADBE\n",
      "AMD\n",
      "AAP\n",
      "        Adj Close Price  Book Value Per Share * USD  Cap Spending USD Mil  \\\n",
      "Ticker                                                                      \n",
      "MMM          229.964996                       20.39               -1350.0   \n",
      "ABT           54.205002                       20.39               -1350.0   \n",
      "ABBV          90.169998                       20.39               -1350.0   \n",
      "ACN          142.274994                       20.39               -1350.0   \n",
      "ATVI          65.425003                       20.39               -1350.0   \n",
      "AYI          167.490005                       20.39               -1350.0   \n",
      "ADBE         175.089996                       20.39               -1350.0   \n",
      "AMD           10.985000                       20.39               -1350.0   \n",
      "AAP           81.820000                       20.39               -1350.0   \n",
      "\n",
      "        Dividends USD  Earnings Per Share USD  Free Cash Flow Per Share * USD  \\\n",
      "Ticker                                                                          \n",
      "MMM              4.63                    8.96                             NaN   \n",
      "ABT              4.63                    8.96                             NaN   \n",
      "ABBV             4.63                    8.96                             NaN   \n",
      "ACN              4.63                    8.96                             NaN   \n",
      "ATVI             4.63                    8.96                             NaN   \n",
      "AYI              4.63                    8.96                             NaN   \n",
      "ADBE             4.63                    8.96                             NaN   \n",
      "AMD              4.63                    8.96                             NaN   \n",
      "AAP              4.63                    8.96                             NaN   \n",
      "\n",
      "        Free Cash Flow USD Mil  Gross Margin %  Net Income USD Mil  \\\n",
      "Ticker                                                               \n",
      "MMM                     5239.0            49.6              5490.0   \n",
      "ABT                     5239.0            49.6              5490.0   \n",
      "ABBV                    5239.0            49.6              5490.0   \n",
      "ACN                     5239.0            49.6              5490.0   \n",
      "ATVI                    5239.0            49.6              5490.0   \n",
      "AYI                     5239.0            49.6              5490.0   \n",
      "ADBE                    5239.0            49.6              5490.0   \n",
      "AMD                     5239.0            49.6              5490.0   \n",
      "AAP                     5239.0            49.6              5490.0   \n",
      "\n",
      "        Operating Cash Flow USD Mil  Operating Income USD Mil  \\\n",
      "Ticker                                                          \n",
      "MMM                          6589.0                    7664.0   \n",
      "ABT                          6589.0                    7664.0   \n",
      "ABBV                         6589.0                    7664.0   \n",
      "ACN                          6589.0                    7664.0   \n",
      "ATVI                         6589.0                    7664.0   \n",
      "AYI                          6589.0                    7664.0   \n",
      "ADBE                         6589.0                    7664.0   \n",
      "AMD                          6589.0                    7664.0   \n",
      "AAP                          6589.0                    7664.0   \n",
      "\n",
      "        Operating Margin %  Payout Ratio % *  Revenue USD Mil  Shares Mil  \\\n",
      "Ticker                                                                      \n",
      "MMM                   24.7              51.7          30996.0       613.0   \n",
      "ABT                   24.7              51.7          30996.0       613.0   \n",
      "ABBV                  24.7              51.7          30996.0       613.0   \n",
      "ACN                   24.7              51.7          30996.0       613.0   \n",
      "ATVI                  24.7              51.7          30996.0       613.0   \n",
      "AYI                   24.7              51.7          30996.0       613.0   \n",
      "ADBE                  24.7              51.7          30996.0       613.0   \n",
      "AMD                   24.7              51.7          30996.0       613.0   \n",
      "AAP                   24.7              51.7          30996.0       613.0   \n",
      "\n",
      "        Working Capital USD Mil  \n",
      "Ticker                           \n",
      "MMM                         NaN  \n",
      "ABT                         NaN  \n",
      "ABBV                        NaN  \n",
      "ACN                         NaN  \n",
      "ATVI                        NaN  \n",
      "AYI                         NaN  \n",
      "ADBE                        NaN  \n",
      "AMD                         NaN  \n",
      "AAP                         NaN  \n"
     ]
    }
   ],
   "source": [
    "reformatDataFrame('sp500_joined_closes.csv')"
   ]
  },
  {
   "cell_type": "code",
   "execution_count": 7,
   "metadata": {},
   "outputs": [
    {
     "ename": "NameError",
     "evalue": "name 'compile_data' is not defined",
     "output_type": "error",
     "traceback": [
      "\u001b[1;31m---------------------------------------------------------------------------\u001b[0m",
      "\u001b[1;31mNameError\u001b[0m                                 Traceback (most recent call last)",
      "\u001b[1;32m<ipython-input-7-c1ea994916de>\u001b[0m in \u001b[0;36m<module>\u001b[1;34m()\u001b[0m\n\u001b[1;32m----> 1\u001b[1;33m \u001b[0mvisualize_data\u001b[0m\u001b[1;33m(\u001b[0m\u001b[1;33m)\u001b[0m\u001b[1;33m\u001b[0m\u001b[0m\n\u001b[0m",
      "\u001b[1;32m<ipython-input-4-346376fac5cc>\u001b[0m in \u001b[0;36mvisualize_data\u001b[1;34m()\u001b[0m\n\u001b[0;32m      1\u001b[0m \u001b[1;32mdef\u001b[0m \u001b[0mvisualize_data\u001b[0m\u001b[1;33m(\u001b[0m\u001b[1;33m)\u001b[0m\u001b[1;33m:\u001b[0m\u001b[1;33m\u001b[0m\u001b[0m\n\u001b[1;32m----> 2\u001b[1;33m     \u001b[0mcompile_data\u001b[0m\u001b[1;33m(\u001b[0m\u001b[1;33m)\u001b[0m\u001b[1;33m\u001b[0m\u001b[0m\n\u001b[0m",
      "\u001b[1;31mNameError\u001b[0m: name 'compile_data' is not defined"
     ]
    }
   ],
   "source": []
  },
  {
   "cell_type": "code",
   "execution_count": null,
   "metadata": {},
   "outputs": [],
   "source": []
  }
 ],
 "metadata": {
  "kernelspec": {
   "display_name": "Python 3",
   "language": "python",
   "name": "python3"
  },
  "language_info": {
   "codemirror_mode": {
    "name": "ipython",
    "version": 3
   },
   "file_extension": ".py",
   "mimetype": "text/x-python",
   "name": "python",
   "nbconvert_exporter": "python",
   "pygments_lexer": "ipython3",
   "version": "3.5.4"
  }
 },
 "nbformat": 4,
 "nbformat_minor": 2
}
